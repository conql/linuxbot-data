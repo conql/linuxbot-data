{
 "cells": [
  {
   "cell_type": "code",
   "execution_count": 5,
   "metadata": {},
   "outputs": [],
   "source": [
    "import pandas as pd\n",
    "import re\n"
   ]
  },
  {
   "cell_type": "code",
   "execution_count": 8,
   "metadata": {},
   "outputs": [],
   "source": [
    "# 读取CSV文件\n",
    "df = pd.read_csv(r\"data\\old\\500题已回答.csv\")\n",
    "\n",
    "# 初始化一个新的DataFrame\n",
    "new_df = pd.DataFrame(columns=[\"question\", \"answer\"])\n",
    "\n",
    "# 遍历每一行\n",
    "for index, row in df.iterrows():\n",
    "    # 使用正则表达式匹配题目和答案\n",
    "    match = re.search(r'^(.*?)\\n\\s*正确答案[：:]\\s*(.*)$', row[\"Question\"], re.DOTALL)\n",
    "    \n",
    "    if match:\n",
    "        question = match.group(1).strip()\n",
    "        answer = match.group(2).strip()\n",
    "        \n",
    "        # 将题目和答案添加到新的DataFrame中\n",
    "        new_df.loc[index] = [question, answer]\n",
    "\n",
    "# 输出新的DataFrame\n",
    "new_df.to_csv(r\"data\\questions\\500.csv\", index=False, encoding=\"utf-8-sig\")"
   ]
  }
 ],
 "metadata": {
  "kernelspec": {
   "display_name": "venv",
   "language": "python",
   "name": "python3"
  },
  "language_info": {
   "codemirror_mode": {
    "name": "ipython",
    "version": 3
   },
   "file_extension": ".py",
   "mimetype": "text/x-python",
   "name": "python",
   "nbconvert_exporter": "python",
   "pygments_lexer": "ipython3",
   "version": "3.11.2"
  },
  "orig_nbformat": 4
 },
 "nbformat": 4,
 "nbformat_minor": 2
}
